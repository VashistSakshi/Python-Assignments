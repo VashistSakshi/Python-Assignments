{
  "nbformat": 4,
  "nbformat_minor": 0,
  "metadata": {
    "colab": {
      "provenance": []
    },
    "kernelspec": {
      "name": "python3",
      "display_name": "Python 3"
    },
    "language_info": {
      "name": "python"
    }
  },
  "cells": [
    {
      "cell_type": "markdown",
      "source": [
        "1. What is Object-Oriented Programming (OOP)?\n",
        "- Object-Oriented Programming (OOP) is a programming paradigm based on the concept of objects. Objects represent real-world entities and combine data (attributes) and behaviors (methods) in a single unit. OOP helps in writing reusable, modular, and structured code."
      ],
      "metadata": {
        "id": "lyexPbh62SxS"
      }
    },
    {
      "cell_type": "markdown",
      "source": [
        "2. What is a class in OOP?\n",
        "\n",
        "- A class is a blueprint or template for creating objects. It defines the attributes (variables) and methods (functions) that the objects created from it will have. A class itself does not hold data until an object (instance) is created from it."
      ],
      "metadata": {
        "id": "NvDmXI-x3HkC"
      }
    },
    {
      "cell_type": "markdown",
      "source": [
        "What is an object in OOP?\n",
        "\n",
        "- An object is an instance of a class. It represents a specific entity with actual values for the attributes defined in the class. Each object can have unique data but will share the structure defined by the class."
      ],
      "metadata": {
        "id": "agyPUuuX3LCd"
      }
    },
    {
      "cell_type": "markdown",
      "source": [
        "4. Difference between Abstraction and Encapsulation?\n",
        "\n",
        "- Abstraction is the process of hiding the internal implementation and showing only the essential features to the user. It focuses on what an object does rather than how it does it.\n",
        "\n",
        "  Encapsulation is the process of wrapping data and methods into a single unit (class) and restricting direct access to some of the object’s components. It ensures data security by providing controlled access through methods."
      ],
      "metadata": {
        "id": "KBy4BkuW3OOh"
      }
    },
    {
      "cell_type": "markdown",
      "source": [
        "5. What are dunder methods in Python?\n",
        "\n",
        "- Dunder methods (short for double underscore methods) are special predefined methods in Python that start and end with double underscores (e.g., __init__, __str__, __len__). They allow customization of how objects behave, such as initialization, printing, comparison, and operator overloading."
      ],
      "metadata": {
        "id": "Po8QQsRX3TUe"
      }
    },
    {
      "cell_type": "markdown",
      "source": [
        "6. Explain the concept of inheritance in OOP?\n",
        "\n",
        "- Inheritance is an OOP concept where one class (child class) can acquire properties and methods from another class (parent class). It promotes code reusability and establishes a relationship between classes. Python supports single, multiple, multilevel, and hierarchical inheritance."
      ],
      "metadata": {
        "id": "7LLWBaFK3XUE"
      }
    },
    {
      "cell_type": "markdown",
      "source": [
        "7. What is polymorphism in OOP?\n",
        "\n",
        "- Polymorphism means “many forms”. It allows a single function, method, or operator to behave differently depending on the object or context. In OOP, it is commonly achieved through method overriding (same method name in parent and child class with different behavior) and operator overloading."
      ],
      "metadata": {
        "id": "gzFsFD4F3biO"
      }
    },
    {
      "cell_type": "markdown",
      "source": [
        "8. How is encapsulation achieved in Python?\n",
        "\n",
        "- Encapsulation in Python is achieved by making class variables private using a double underscore (__) prefix. Access to these private variables is provided through getter and setter methods, ensuring controlled and secure data access."
      ],
      "metadata": {
        "id": "Wqlswycz3ey0"
      }
    },
    {
      "cell_type": "markdown",
      "source": [
        "9. What is a constructor in Python?\n",
        "\n",
        "- A constructor in Python is a special method called __init__(). It is automatically executed when a new object of a class is created. The constructor is mainly used to initialize the attributes of the object at the time of creation."
      ],
      "metadata": {
        "id": "9RqqZ0xN3iGr"
      }
    },
    {
      "cell_type": "markdown",
      "source": [
        "10. What are class and static methods in Python?\n",
        "\n",
        "- Instance Methods work with the data of an individual object and require self as their first parameter.\n",
        "\n",
        "  Class Methods work with class-level data and are defined using the @classmethod decorator, with cls as their first parameter.\n",
        "\n",
        "  Static Methods are utility methods that neither depend on object data (self) nor class data (cls). They are defined using the @staticmethod decorator."
      ],
      "metadata": {
        "id": "yNV0HtL23k91"
      }
    },
    {
      "cell_type": "markdown",
      "source": [
        "11. What is method overloading in Python?\n",
        "\n",
        "- Method overloading refers to defining multiple methods with the same name but different numbers or types of parameters.\n",
        "\n",
        "Python does not support true method overloading like some other languages (e.g., Java). Instead, it allows default arguments and variable-length arguments (*args, **kwargs) to achieve similar functionality."
      ],
      "metadata": {
        "id": "5rW1AXB_3x4c"
      }
    },
    {
      "cell_type": "markdown",
      "source": [
        "12. What is method overriding in OOP?\n",
        "\n",
        "- Method overriding occurs when a child class provides a new implementation of a method that is already defined in its parent class.\n",
        "\n",
        "  It enables polymorphism by allowing different classes to have methods with the same name but different behaviors."
      ],
      "metadata": {
        "id": "a6SZvWoc32Bn"
      }
    },
    {
      "cell_type": "markdown",
      "source": [
        "13. What is a property decorator in Python?\n",
        "\n",
        "- The @property decorator in Python is used to define getter methods in a class so that they can be accessed like attributes.\n",
        "\n",
        "It provides a way to access private attributes while keeping the internal implementation hidden."
      ],
      "metadata": {
        "id": "IjUHZsLg36nE"
      }
    },
    {
      "cell_type": "markdown",
      "source": [
        "14. Why is polymorphism important in OOP?\n",
        "\n",
        "- Polymorphism allows the same interface to be used for different types of objects.\n",
        "\n",
        "It makes code more flexible and reusable because functions or methods can work with different classes without modification.\n",
        "\n",
        "It supports the principle of abstraction by focusing on what an object can do, rather than how it does it."
      ],
      "metadata": {
        "id": "F_f5qAsZ4L7R"
      }
    },
    {
      "cell_type": "markdown",
      "source": [
        "15. What is an abstract class in Python?\n",
        "\n",
        "- An abstract class is a class that cannot be instantiated directly and may contain one or more abstract methods.\n",
        "\n",
        "  Abstract methods are declared but not implemented in the abstract class.\n",
        "\n",
        "  They are used to provide a common interface that subclasses must implement."
      ],
      "metadata": {
        "id": "iUWY2F9i4Opy"
      }
    },
    {
      "cell_type": "markdown",
      "source": [
        "16. What are the advantages of OOP?\n",
        "\n",
        "- 1. Code Reusability: Through inheritance, classes can reuse existing code.\n",
        "\n",
        "  2. Encapsulation: Data is protected and accessed in a controlled manner.\n",
        "\n",
        "  3. Abstraction: Hides implementation details, exposing only necessary functionality.\n",
        "\n",
        "  4. Polymorphism: Enhances flexibility by allowing one interface for different data types.\n",
        "\n",
        "  5. Modularity and Maintainability: Code is easier to organize, test, and maintain."
      ],
      "metadata": {
        "id": "J_gyyzgb4Q4S"
      }
    },
    {
      "cell_type": "markdown",
      "source": [
        "17. What is multiple inheritance in Python?\n",
        "\n",
        "- Multiple inheritance refers to a situation where a class can inherit from more than one parent class.\n",
        "\n",
        "  It allows a child class to access attributes and methods from multiple classes."
      ],
      "metadata": {
        "id": "8bMYBTOE4Tcp"
      }
    },
    {
      "cell_type": "markdown",
      "source": [
        "18. What is the difference between a class variable and an instance variable?\n",
        "\n",
        "- Class Variable: Shared across all instances of a class. Defined inside the class but outside instance methods.\n",
        "\n",
        "  Instance Variable: Unique to each object. Defined inside the constructor (__init__) and belongs only to that instance."
      ],
      "metadata": {
        "id": "H1JTZ0484V4z"
      }
    },
    {
      "cell_type": "markdown",
      "source": [
        "20. What is the significance of the super() function in Python?\n",
        "- The super() function is used to call methods from a parent class inside a child class.\n",
        "\n",
        "  It is commonly used in method overriding and constructors to ensure that the parent class functionality is executed along with the child’s."
      ],
      "metadata": {
        "id": "hA2RnHyv4osR"
      }
    },
    {
      "cell_type": "markdown",
      "source": [
        "21. What is the significance of the __del__ method in Python?\n",
        "\n",
        "- The __del__ method is a destructor in Python.\n",
        "\n",
        "  It is automatically called when an object is about to be destroyed or deleted, and it is used to release resources or perform cleanup tasks."
      ],
      "metadata": {
        "id": "XU0JTqtW4rYU"
      }
    },
    {
      "cell_type": "markdown",
      "source": [
        "22. What is the difference between @staticmethod and @classmethod in Python?\n",
        "\n",
        "- @staticmethod: Does not take self or cls as the first parameter. It is used for utility functions that are related to the class but do not need access to instance or class-level data.\n",
        "\n",
        "  @classmethod: Takes cls as the first parameter. It can access and modify class-level variables but not instance-specific data."
      ],
      "metadata": {
        "id": "CHLFaOmi4ug3"
      }
    },
    {
      "cell_type": "markdown",
      "source": [
        "23. How does polymorphism work in Python with inheritance?\n",
        "\n",
        "- Polymorphism in Python with inheritance allows a child class to override methods of the parent class, while still keeping the same method name.\n",
        "\n",
        "  When an object of the child class calls the overridden method, the child’s implementation is executed instead of the parent’s.\n",
        "\n",
        "  This enables different classes in an inheritance hierarchy to provide different behaviors for the same method, while keeping a common interface.\n",
        "\n",
        "  It is a key part of runtime polymorphism in OOP."
      ],
      "metadata": {
        "id": "9TFCkYIS48vj"
      }
    },
    {
      "cell_type": "markdown",
      "source": [
        "24. What is method chaining in Python OOP?\n",
        "\n",
        "- Method chaining is a technique in OOP where multiple methods are called on the same object in a single line of code.\n",
        "\n",
        "  This works because each method returns the object itself (self) after execution, allowing the next method to be invoked immediately.\n",
        "\n",
        "  It improves code readability and conciseness, especially in cases where multiple operations need to be performed on the same object."
      ],
      "metadata": {
        "id": "ZZGyj3kz5AyX"
      }
    },
    {
      "cell_type": "markdown",
      "source": [
        "25. What is the purpose of the __call__ method in Python?\n",
        "\n",
        "- The __call__ method in Python allows an object of a class to be called like a function.\n",
        "\n",
        "  When defined inside a class, calling an instance of that class will automatically trigger the __call__ method.\n",
        "\n",
        "  It is useful for creating callable objects, often used in scenarios like function wrappers, decorators, and classes representing actions or computations."
      ],
      "metadata": {
        "id": "NWY2BSYO5Gjb"
      }
    },
    {
      "cell_type": "markdown",
      "source": [
        " 1. Create a parent class Animal with a method speak() that prints a generic message. Create a child class Dog\n",
        "that overrides the speak() method to print \"Bark!\"."
      ],
      "metadata": {
        "id": "MfVDt6jG6Cji"
      }
    },
    {
      "cell_type": "code",
      "source": [
        "class Animal:\n",
        "    def speak(self):\n",
        "        print(\"Generic animal sound\")\n",
        "\n",
        "class Dog(Animal):\n",
        "    def speak(self):\n",
        "        print(\"Bark!\")\n",
        "\n",
        "dog1 = Dog()\n",
        "dog1.speak()"
      ],
      "metadata": {
        "colab": {
          "base_uri": "https://localhost:8080/"
        },
        "id": "lGRpfAza6I-c",
        "outputId": "930b599d-732f-4165-8cb0-61b3b0c764ea"
      },
      "execution_count": 1,
      "outputs": [
        {
          "output_type": "stream",
          "name": "stdout",
          "text": [
            "Bark!\n"
          ]
        }
      ]
    },
    {
      "cell_type": "markdown",
      "source": [
        " 2. Write a program to create an abstract class Shape with a method area(). Derive classes Circle and Rectangle\n",
        "from it and implement the area() method in both."
      ],
      "metadata": {
        "id": "UcrLQddX6NYo"
      }
    },
    {
      "cell_type": "code",
      "source": [
        "from abc import ABC, abstractmethod\n",
        "\n",
        "class Shape(ABC):\n",
        "    @abstractmethod\n",
        "    def area(self):\n",
        "        pass\n",
        "\n",
        "class Circle(Shape):\n",
        "    def __init__(self, radius):\n",
        "        self.radius = radius\n",
        "\n",
        "    def area(self):\n",
        "        return 3.14 * self.radius * self.radius\n",
        "\n",
        "class Rectangle(Shape):\n",
        "    def __init__(self, length, breadth):\n",
        "        self.length = length\n",
        "        self.breadth = breadth\n",
        "\n",
        "    def area(self):\n",
        "        return self.length * self.breadth\n",
        "\n",
        "c1 = Circle(5)\n",
        "print(\"Circle area:\", c1.area())\n",
        "\n",
        "r1 = Rectangle(5, 10)\n",
        "print(\"Rectangle area:\", r1.area())"
      ],
      "metadata": {
        "colab": {
          "base_uri": "https://localhost:8080/"
        },
        "id": "vwKJjUbp6R9l",
        "outputId": "3516d783-ed02-42a0-f898-3444bd87889e"
      },
      "execution_count": 2,
      "outputs": [
        {
          "output_type": "stream",
          "name": "stdout",
          "text": [
            "Circle area: 78.5\n",
            "Rectangle area: 50\n"
          ]
        }
      ]
    },
    {
      "cell_type": "markdown",
      "source": [
        "3. Implement a multi-level inheritance scenario where a class Vehicle has an attribute type. Derive a class Car\n",
        "and further derive a class ElectricCar that adds a battery attribute."
      ],
      "metadata": {
        "id": "rTrdouzO6XgK"
      }
    },
    {
      "cell_type": "code",
      "source": [
        "class Vehicle:\n",
        "    def __init__(self, v_type):\n",
        "        self.v_type = v_type\n",
        "\n",
        "class Car(Vehicle):\n",
        "    def __init__(self, v_type, brand):\n",
        "        super().__init__(v_type)\n",
        "        self.brand = brand\n",
        "\n",
        "class ElectricCar(Car):\n",
        "    def __init__(self, v_type, brand, battery):\n",
        "        super().__init__(v_type, brand)\n",
        "        self.battery = battery\n",
        "\n",
        "ev1 = ElectricCar(\"Four Wheeler\", \"Tesla\", \"100 kWh\")\n",
        "print(\"Type:\", ev1.v_type, \", Brand:\", ev1.brand, \", Battery:\", ev1.battery)"
      ],
      "metadata": {
        "colab": {
          "base_uri": "https://localhost:8080/"
        },
        "id": "49JCgFxZ6bj2",
        "outputId": "0852272f-978c-4e60-f59c-bbac41495eb4"
      },
      "execution_count": 4,
      "outputs": [
        {
          "output_type": "stream",
          "name": "stdout",
          "text": [
            "Type: Four Wheeler , Brand: Tesla , Battery: 100 kWh\n"
          ]
        }
      ]
    },
    {
      "cell_type": "markdown",
      "source": [
        "4. Demonstrate polymorphism by creating a base class Bird with a method fly(). Create two derived classes\n",
        "Sparrow and Penguin that override the fly() method."
      ],
      "metadata": {
        "id": "cHPPhbH86eE6"
      }
    },
    {
      "cell_type": "code",
      "source": [
        "class Bird:\n",
        "    def fly(self):\n",
        "        print(\"Birds can fly\")\n",
        "\n",
        "class Sparrow(Bird):\n",
        "    def fly(self):\n",
        "        print(\"Sparrow flies high\")\n",
        "\n",
        "class Penguin(Bird):\n",
        "    def fly(self):\n",
        "        print(\"Penguins cannot fly\")\n",
        "\n",
        "B1=Sparrow()\n",
        "B1.fly()\n",
        "\n",
        "b2=Penguin()\n",
        "b2.fly()\n"
      ],
      "metadata": {
        "colab": {
          "base_uri": "https://localhost:8080/"
        },
        "id": "TBOti0Ax6hIP",
        "outputId": "ced36064-62f8-41ae-c1a6-b2d704b735e4"
      },
      "execution_count": 7,
      "outputs": [
        {
          "output_type": "stream",
          "name": "stdout",
          "text": [
            "Sparrow flies high\n",
            "Penguins cannot fly\n"
          ]
        }
      ]
    },
    {
      "cell_type": "markdown",
      "source": [
        "5. Write a program to demonstrate encapsulation by creating a class BankAccount with private attributes\n",
        "balance and methods to deposit, withdraw, and check balance."
      ],
      "metadata": {
        "id": "wSzehq0E6mSc"
      }
    },
    {
      "cell_type": "code",
      "source": [
        "class BankAccount:\n",
        "    def __init__(self, balance):\n",
        "        self.__balance = balance   # private attribute\n",
        "\n",
        "    def deposit(self, amount):\n",
        "        self.__balance += amount\n",
        "\n",
        "    def withdraw(self, amount):\n",
        "        if amount <= self.__balance:\n",
        "            self.__balance -= amount\n",
        "        else:\n",
        "            print(\"Insufficient balance!\")\n",
        "\n",
        "    def check_balance(self):\n",
        "        return self.__balance\n",
        "\n",
        "acc1 = BankAccount(1000)\n",
        "acc1.deposit(500)\n",
        "acc1.withdraw(200)\n",
        "print(\"Balance:\", acc1.check_balance())"
      ],
      "metadata": {
        "colab": {
          "base_uri": "https://localhost:8080/"
        },
        "id": "VLcA8ErYGbAR",
        "outputId": "c9f28b2f-e1d3-4f0e-ef1a-e2df8b39082a"
      },
      "execution_count": 8,
      "outputs": [
        {
          "output_type": "stream",
          "name": "stdout",
          "text": [
            "Balance: 1300\n"
          ]
        }
      ]
    },
    {
      "cell_type": "markdown",
      "source": [
        " 6. Demonstrate runtime polymorphism using a method play() in a base class Instrument. Derive classes Guitar\n",
        "and Piano that implement their own version of play()."
      ],
      "metadata": {
        "id": "r38OdC536y_p"
      }
    },
    {
      "cell_type": "code",
      "source": [
        "class Instrument:\n",
        "    def play(self):\n",
        "        print(\"Instrument is playing\")\n",
        "\n",
        "class Guitar(Instrument):\n",
        "    def play(self):\n",
        "        print(\"Strumming the guitar\")\n",
        "\n",
        "class Piano(Instrument):\n",
        "    def play(self):\n",
        "        print(\"Playing the piano\")\n",
        "\n",
        "instruments = [Guitar(), Piano()]\n",
        "for inst in instruments:\n",
        "    inst.play()"
      ],
      "metadata": {
        "colab": {
          "base_uri": "https://localhost:8080/"
        },
        "id": "Uv5wt2an613f",
        "outputId": "e9c256b7-97f6-4ba6-9e5a-cdd1aab1256a"
      },
      "execution_count": 9,
      "outputs": [
        {
          "output_type": "stream",
          "name": "stdout",
          "text": [
            "Strumming the guitar\n",
            "Playing the piano\n"
          ]
        }
      ]
    },
    {
      "cell_type": "markdown",
      "source": [
        " 7. Create a class MathOperations with a class method add_numbers() to add two numbers and a static\n",
        "method subtract_numbers() to subtract two numbers."
      ],
      "metadata": {
        "id": "G7E-U-Tg649j"
      }
    },
    {
      "cell_type": "code",
      "source": [
        "class MathOperations:\n",
        "    @classmethod\n",
        "    def add_numbers(cls, x, y):\n",
        "        return x + y\n",
        "\n",
        "    @staticmethod\n",
        "    def subtract_numbers(x, y):\n",
        "        return x - y\n",
        "\n",
        "print(\"Addition:\", MathOperations.add_numbers(5, 10))\n",
        "print(\"Subtraction:\", MathOperations.subtract_numbers(10, 5))"
      ],
      "metadata": {
        "colab": {
          "base_uri": "https://localhost:8080/"
        },
        "id": "F9a0iF6167iB",
        "outputId": "131afd37-1152-40b6-98d4-f554aa10d6cc"
      },
      "execution_count": 10,
      "outputs": [
        {
          "output_type": "stream",
          "name": "stdout",
          "text": [
            "Addition: 15\n",
            "Subtraction: 5\n"
          ]
        }
      ]
    },
    {
      "cell_type": "markdown",
      "source": [
        " 8. Implement a class Person with a class method to count the total number of persons created."
      ],
      "metadata": {
        "id": "sXzJH7MN7Biv"
      }
    },
    {
      "cell_type": "code",
      "source": [
        "class Person:\n",
        "    total_num = 0   # class variable to track total persons\n",
        "\n",
        "    def __init__(self, name):\n",
        "        self.name = name\n",
        "        Person.total_num += 1\n",
        "\n",
        "    @classmethod\n",
        "    def total(cls):\n",
        "        return cls.total_num\n",
        "\n",
        "p1 = Person(\"Sakshi\")\n",
        "p2 = Person(\"Amit\")\n",
        "p3 = Person(\"Ravi\")\n",
        "\n",
        "print(\"Total persons created:\", Person.total())"
      ],
      "metadata": {
        "colab": {
          "base_uri": "https://localhost:8080/"
        },
        "id": "Us8aRnZs7EZr",
        "outputId": "a2b57e1f-6d7e-47f1-a5f5-dda40ea26b7a"
      },
      "execution_count": 11,
      "outputs": [
        {
          "output_type": "stream",
          "name": "stdout",
          "text": [
            "Total persons created: 3\n"
          ]
        }
      ]
    },
    {
      "cell_type": "markdown",
      "source": [
        " 9. Write a class Fraction with attributes numerator and denominator. Override the str method to display the\n",
        "fraction as \"numerator/denominator\"."
      ],
      "metadata": {
        "id": "hxUy4kwF7P_0"
      }
    },
    {
      "cell_type": "code",
      "source": [
        "class Fraction:\n",
        "    def __init__(self, numerator, denominator):\n",
        "        self.numerator = numerator\n",
        "        self.denominator = denominator\n",
        "\n",
        "    def __str__(self):\n",
        "        return f\"{self.numerator}/{self.denominator}\"\n",
        "\n",
        "f1 = Fraction(3, 4)\n",
        "print(f1)"
      ],
      "metadata": {
        "colab": {
          "base_uri": "https://localhost:8080/"
        },
        "id": "iiIj7e477SQ0",
        "outputId": "d96690ad-6a92-4d7f-b4fc-922476a28025"
      },
      "execution_count": 12,
      "outputs": [
        {
          "output_type": "stream",
          "name": "stdout",
          "text": [
            "3/4\n"
          ]
        }
      ]
    },
    {
      "cell_type": "markdown",
      "source": [
        " 10. Demonstrate operator overloading by creating a class Vector and overriding the add method to add two\n",
        "vectors."
      ],
      "metadata": {
        "id": "wtByE3377VTe"
      }
    },
    {
      "cell_type": "code",
      "source": [
        "class Vector:\n",
        "    def __init__(self, x, y):\n",
        "        self.x = x\n",
        "        self.y = y\n",
        "\n",
        "    def __add__(self, other):\n",
        "        return Vector(self.x + other.x, self.y + other.y)\n",
        "\n",
        "    def __str__(self):\n",
        "        return f\"Vector({self.x}, {self.y})\"\n",
        "\n",
        "v1 = Vector(2, 3)\n",
        "v2 = Vector(4, 5)\n",
        "print(v1 + v2)"
      ],
      "metadata": {
        "colab": {
          "base_uri": "https://localhost:8080/"
        },
        "id": "UVYZU-y-7XX9",
        "outputId": "2b0ebfab-f499-4b0e-d9f1-6e93fa263124"
      },
      "execution_count": 13,
      "outputs": [
        {
          "output_type": "stream",
          "name": "stdout",
          "text": [
            "Vector(6, 8)\n"
          ]
        }
      ]
    },
    {
      "cell_type": "markdown",
      "source": [
        " 11. Create a class Person with attributes name and age. Add a method greet() that prints \"Hello, my name is\n",
        "{name} and I am {age} years old.\""
      ],
      "metadata": {
        "id": "wzpw2LBc7bu3"
      }
    },
    {
      "cell_type": "code",
      "source": [
        "class Person:\n",
        "    def __init__(self, name, age):\n",
        "        self.name = name\n",
        "        self.age = age\n",
        "\n",
        "    def greet(self):\n",
        "        print(f\"Hello, my name is {self.name} and I am {self.age} years old.\")\n",
        "\n",
        "p1 = Person(\"Alice\", 25)\n",
        "p1.greet()"
      ],
      "metadata": {
        "colab": {
          "base_uri": "https://localhost:8080/"
        },
        "id": "avmK-JbQ7eyC",
        "outputId": "55b8249d-6668-4959-ff9d-b288c2214dfb"
      },
      "execution_count": 14,
      "outputs": [
        {
          "output_type": "stream",
          "name": "stdout",
          "text": [
            "Hello, my name is Alice and I am 25 years old.\n"
          ]
        }
      ]
    },
    {
      "cell_type": "markdown",
      "source": [
        " 12. Implement a class Student with attributes name and grades. Create a method average_grade() to compute\n",
        "the average of the grades."
      ],
      "metadata": {
        "id": "IMWXmRiu7iJJ"
      }
    },
    {
      "cell_type": "code",
      "source": [
        "class Student:\n",
        "    def __init__(self, name, grades):\n",
        "        self.name = name\n",
        "        self.grades = grades\n",
        "\n",
        "    def average_grade(self):\n",
        "        return sum(self.grades) / len(self.grades)\n",
        "\n",
        "s1 = Student(\"Bob\", [80, 90, 70])\n",
        "print(\"Average:\", s1.average_grade())"
      ],
      "metadata": {
        "colab": {
          "base_uri": "https://localhost:8080/"
        },
        "id": "8xgpvx677kNg",
        "outputId": "7b676566-6bf3-440c-ae96-ae7a5faeb7ae"
      },
      "execution_count": 15,
      "outputs": [
        {
          "output_type": "stream",
          "name": "stdout",
          "text": [
            "Average: 80.0\n"
          ]
        }
      ]
    },
    {
      "cell_type": "markdown",
      "source": [
        "13. Create a class Rectangle with methods set_dimensions() to set the dimensions and area() to calculate the\n",
        "area."
      ],
      "metadata": {
        "id": "4kVsL21V7qGX"
      }
    },
    {
      "cell_type": "code",
      "source": [
        "class Rectangle:\n",
        "    def set_dimensions(self, length, width):\n",
        "        self.length = length\n",
        "        self.width = width\n",
        "\n",
        "    def area(self):\n",
        "        return self.length * self.width\n",
        "\n",
        "r1 = Rectangle()\n",
        "r1.set_dimensions(5, 10)\n",
        "print(\"Area:\", r1.area())\n"
      ],
      "metadata": {
        "colab": {
          "base_uri": "https://localhost:8080/"
        },
        "id": "4uZCXKzZ7sQb",
        "outputId": "5a3bc491-2ed8-4886-9460-42ee2253e46d"
      },
      "execution_count": 16,
      "outputs": [
        {
          "output_type": "stream",
          "name": "stdout",
          "text": [
            "Area: 50\n"
          ]
        }
      ]
    },
    {
      "cell_type": "markdown",
      "source": [
        " 14. Create a class Employee with a method calculate_salary() that computes the salary based on hours worked\n",
        "and hourly rate. Create a derived class Manager that adds a bonus to the salary."
      ],
      "metadata": {
        "id": "2EPLAqsA7uyb"
      }
    },
    {
      "cell_type": "code",
      "source": [
        "class Employee:\n",
        "    def __init__(self, hours_worked, hourly_rate):\n",
        "        self.hours_worked = hours_worked\n",
        "        self.hourly_rate = hourly_rate\n",
        "\n",
        "    def calculate_salary(self):\n",
        "        return self.hours_worked * self.hourly_rate\n",
        "\n",
        "class Manager(Employee):\n",
        "    def __init__(self, hours_worked, hourly_rate, bonus):\n",
        "        super().__init__(hours_worked, hourly_rate)\n",
        "        self.bonus = bonus\n",
        "\n",
        "    def calculate_salary(self):\n",
        "        return super().calculate_salary() + self.bonus\n",
        "\n",
        "e1 = Employee(40, 20)   # 40 hours, $20/hour\n",
        "print(\"Employee Salary:\", e1.calculate_salary())  # 800\n",
        "\n",
        "m1 = Manager(40, 30, 200)  # 40 hours, $30/hour + 200 bonus\n",
        "print(\"Manager Salary:\", m1.calculate_salary())  # 1400\n"
      ],
      "metadata": {
        "colab": {
          "base_uri": "https://localhost:8080/"
        },
        "id": "c1oLdHPx7xfm",
        "outputId": "571dcbce-cdd1-4928-d850-b53c725d8e82"
      },
      "execution_count": 17,
      "outputs": [
        {
          "output_type": "stream",
          "name": "stdout",
          "text": [
            "Employee Salary: 800\n",
            "Manager Salary: 1400\n"
          ]
        }
      ]
    },
    {
      "cell_type": "markdown",
      "source": [
        "15. Create a class Product with attributes name, price, and quantity. Implement a method total_price() that\n",
        "calculates the total price of the product."
      ],
      "metadata": {
        "id": "j6-vgAGM78eQ"
      }
    },
    {
      "cell_type": "code",
      "source": [
        "class Product:\n",
        "    def __init__(self, name, price, quantity):\n",
        "        self.name = name\n",
        "        self.price = price\n",
        "        self.quantity = quantity\n",
        "\n",
        "    def total_price(self):\n",
        "        return self.price * self.quantity\n",
        "\n",
        "p1 = Product(\"Laptop\", 50000, 2)\n",
        "print(\"Total Price:\", p1.total_price())  # 100000\n"
      ],
      "metadata": {
        "colab": {
          "base_uri": "https://localhost:8080/"
        },
        "id": "wQzY9z_h7-eU",
        "outputId": "77195191-263d-4baa-888f-b067b94d71d5"
      },
      "execution_count": 18,
      "outputs": [
        {
          "output_type": "stream",
          "name": "stdout",
          "text": [
            "Total Price: 100000\n"
          ]
        }
      ]
    },
    {
      "cell_type": "markdown",
      "source": [
        " 16. Create a class Animal with an abstract method sound(). Create two derived classes Cow and Sheep that\n",
        "implement the sound() method."
      ],
      "metadata": {
        "id": "-BbLDCBF8BON"
      }
    },
    {
      "cell_type": "code",
      "source": [
        "from abc import ABC, abstractmethod\n",
        "\n",
        "class Animal(ABC):   # Abstract Base Class\n",
        "    @abstractmethod\n",
        "    def sound(self):\n",
        "        pass\n",
        "\n",
        "class Cow(Animal):\n",
        "    def sound(self):\n",
        "        return \"Moo\"\n",
        "\n",
        "class Sheep(Animal):\n",
        "    def sound(self):\n",
        "        return \"Baa\"\n",
        "\n",
        "c1 = Cow()\n",
        "s1 = Sheep()\n",
        "print(\"Cow:\", c1.sound())\n",
        "print(\"Sheep:\", s1.sound())\n"
      ],
      "metadata": {
        "colab": {
          "base_uri": "https://localhost:8080/"
        },
        "id": "RI7M6tgS8DJn",
        "outputId": "787cc291-d5c5-4f72-e168-aeb24cc73461"
      },
      "execution_count": 19,
      "outputs": [
        {
          "output_type": "stream",
          "name": "stdout",
          "text": [
            "Cow: Moo\n",
            "Sheep: Baa\n"
          ]
        }
      ]
    },
    {
      "cell_type": "markdown",
      "source": [
        " 17. Create a class Book with attributes title, author, and year_published. Add a method get_book_info() that\n",
        "returns a formatted string with the book's details."
      ],
      "metadata": {
        "id": "qSeeIgPR8FeO"
      }
    },
    {
      "cell_type": "code",
      "source": [
        "class Book:\n",
        "    def __init__(self, title, author, year_published):\n",
        "        self.title = title\n",
        "        self.author = author\n",
        "        self.year_published = year_published\n",
        "\n",
        "    def get_book_info(self):\n",
        "        return f\"'{self.title}' by {self.author}, published in {self.year_published}\"\n",
        "\n",
        "b1 = Book(\"Python Basics\", \"saskhi\", 2025)\n",
        "print(b1.get_book_info())\n"
      ],
      "metadata": {
        "colab": {
          "base_uri": "https://localhost:8080/"
        },
        "id": "gEfXc1Jh8Hob",
        "outputId": "539d03d5-252d-4a72-dd11-ab4f72a434b9"
      },
      "execution_count": 21,
      "outputs": [
        {
          "output_type": "stream",
          "name": "stdout",
          "text": [
            "'Python Basics' by saskhi, published in 2025\n"
          ]
        }
      ]
    },
    {
      "cell_type": "markdown",
      "source": [
        " 18. Create a class House with attributes address and price. Create a derived class Mansion that adds an\n",
        "attribute number_of_rooms."
      ],
      "metadata": {
        "id": "nAM8Vo-s8J09"
      }
    },
    {
      "cell_type": "code",
      "source": [
        "class House:\n",
        "    def __init__(self, address, price):\n",
        "        self.address = address\n",
        "        self.price = price\n",
        "\n",
        "class Mansion(House):\n",
        "    def __init__(self, address, price, number_of_rooms):\n",
        "        super().__init__(address, price)\n",
        "        self.number_of_rooms = number_of_rooms\n",
        "\n",
        "m1 = Mansion(\"123 Luxury Street\", 5000000, 15)\n",
        "print(\"Address:\", m1.address)\n",
        "print(\"Price:\", m1.price)\n",
        "print(\"Rooms:\", m1.number_of_rooms)\n"
      ],
      "metadata": {
        "colab": {
          "base_uri": "https://localhost:8080/"
        },
        "id": "hGX9jBhn8Lrp",
        "outputId": "c4e1bbf6-f6c3-408c-f9ce-fa0925801096"
      },
      "execution_count": 22,
      "outputs": [
        {
          "output_type": "stream",
          "name": "stdout",
          "text": [
            "Address: 123 Luxury Street\n",
            "Price: 5000000\n",
            "Rooms: 15\n"
          ]
        }
      ]
    }
  ]
}