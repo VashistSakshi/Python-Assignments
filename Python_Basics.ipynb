{
  "nbformat": 4,
  "nbformat_minor": 0,
  "metadata": {
    "colab": {
      "provenance": []
    },
    "kernelspec": {
      "name": "python3",
      "display_name": "Python 3"
    },
    "language_info": {
      "name": "python"
    }
  },
  "cells": [
    {
      "cell_type": "markdown",
      "source": [
        "#Python Basics Questions"
      ],
      "metadata": {
        "id": "q2NP9hcUCkTl"
      }
    },
    {
      "cell_type": "markdown",
      "source": [
        "1. What is Python, and why is it popular?                             \n",
        "  - Python is a high-level, interpreted programming language that allows us to perform a wide range of tasks. It is widely used in web development, data analytics, data visualization, machine learning, automation, and many other fields.\n",
        "\n",
        "    Python is popular because:        \n",
        "    a)It is easy to learn and read due to its simple and clean syntax.\n",
        "\n",
        "    b)It has a large collection of libraries and frameworks like Matplotlib and Seaborn that help us in data visualization.\n",
        "\n",
        "    c)It is versatile and can be applied in multiple domains.\n",
        "\n",
        "    d)It has a large community support, making it beginner-friendly and reliable.\n"
      ],
      "metadata": {
        "id": "oelGNDbaCw3A"
      }
    },
    {
      "cell_type": "markdown",
      "source": [
        "2. What is an interpreter in Python?                   \n",
        " - An interpreter in Python is a program that executes Python code line by line. It reads each statement, translates it into machine instructions, and runs it immediately. This makes Python an interpreted language rather than a compiled one.\n",
        "\n",
        "    When a Python program runs, the code is first converted into an intermediate form called bytecode, and then the Python Virtual Machine (PVM) executes this bytecode step by step.\n",
        "\n",
        "    Unlike a compiler, which translates the whole program into machine code before execution, an interpreter processes the program at runtime. This makes debugging easier, as errors are shown immediately when the code is executed.\n",
        "\n",
        "    The main advantages of using an interpreter are ease of testing, debugging, and platform independence, while the main drawback is that interpreted programs generally run slower compared to compiled programs."
      ],
      "metadata": {
        "id": "UGEmwHk6GjWF"
      }
    },
    {
      "cell_type": "markdown",
      "source": [
        "3. What are pre-defined keywords in Python ?      \n",
        "  - Pre-defined keywords in Python are reserved words that have special meanings and are part of the Python language syntax. They cannot be used as variable names, function names, or class names because they define how the Python interpreter understands and executes code.\n",
        "\n",
        "    Some **Examples** of python keywords are: if, else, while, for, class, def, import, return, True, False, None, etc.\n",
        "\n",
        "    **Characteristics of Keywords**\n",
        "\n",
        "    - They are always reserved → cannot be used as identifiers (variable names, function names, or class names).\n",
        "\n",
        "    - They are case-sensitive → True and true are different (only True is valid).\n",
        "\n",
        "    - They are predefined by Python → users cannot create new keywords.\n",
        "\n",
        "    - They help the interpreter understand the purpose of the code (like decision-making, looping, defining functions, etc.)."
      ],
      "metadata": {
        "id": "oHqiwASjHNPE"
      }
    },
    {
      "cell_type": "markdown",
      "source": [
        "4. Can keywords be used as variable names?       \n",
        " - No — keywords cannot be used as variable names in Python.    \n",
        "**Reason**:\n",
        "Keywords are reserved words that have a predefined meaning in the language (like if, for, while, class, def). If we try to use them as variable names, Python will throw a SyntaxError.\n",
        "\n"
      ],
      "metadata": {
        "id": "kb0gsCc9IILI"
      }
    },
    {
      "cell_type": "markdown",
      "source": [
        "5. What is mutability in Python?      \n",
        "- Mutability in Python refers to whether or not the value of an object can be changed after it is created.\n",
        "\n",
        "    Mutable objects: Their contents can be modified without changing their identity.    \n",
        "    --Examples: list, dict, set\n",
        "\n",
        "    Immutable objects: Once created, their contents cannot be changed. Any modification creates a new object.     \n",
        "    --Examples: int, float, str, tuple"
      ],
      "metadata": {
        "id": "up5l43CGJJ8U"
      }
    },
    {
      "cell_type": "markdown",
      "source": [
        "6. Why are lists mutable, but tuples are immutable?     \n",
        "- Lists are mutable because they are designed to store collections of items that may need to change during program execution.We can add, remove, or update elements without creating a new list.\n",
        "\n",
        "    Tuples are immutable because they are meant to store fixed collections of items. Once created, their contents cannot be altered, which makes them faster, memory-efficient, and safe to use."
      ],
      "metadata": {
        "id": "wkJ_JBVuKGDD"
      }
    },
    {
      "cell_type": "markdown",
      "source": [
        "7. What is the difference between “==” and “is” operators in Python?    \n",
        " -  **== (Equality operator)**\n",
        "\n",
        "    It Compares the values of two objects.\n",
        "    Even if objects are stored at different memory locations, if their contents are the same, == returns True.\n",
        "\n",
        "    **is (Identity operator)**\n",
        "\n",
        "    Compares whether two variables refer to the exact same object in memory.Even if the contents are equal, if they are different objects in memory, is returns False."
      ],
      "metadata": {
        "id": "nf69m0RGU7wd"
      }
    },
    {
      "cell_type": "markdown",
      "source": [
        "8. What are logical operators in Python?    \n",
        "- Logical operators in Python are used to combine conditional statements and return a Boolean value (True or False). There are three logical operators:\n",
        "\n",
        "    1. and →\\ Returns True if both conditions are true.  \n",
        "    2. or → Returns True if at least one condition is true.\n",
        "    3. not → Reverses the result (True → False, False → True).\n",
        "\n",
        "    **Characteristics**\n",
        "\n",
        "    - Logical operators are mainly used in decision-making and control statements like if, while, etc.\n",
        "\n",
        "    - They work on Boolean values (True and False) but can also evaluate expressions that return Boolean results.\n",
        "\n",
        "    - They allow programmers to check multiple conditions at once instead of writing separate checks.\n",
        "\n",
        "    - They are widely used in conditional statements, loops, and filtering data."
      ],
      "metadata": {
        "id": "xvbLoLs7W2UJ"
      }
    },
    {
      "cell_type": "markdown",
      "source": [
        "9. What is type casting in Python?    \n",
        "  - Type casting is the process of converting a variable from one data type to another. It is important because different operations may require data in a specific type (e.g., numbers for arithmetic, strings for concatenation).     \n",
        "\n",
        "      **Importance**:-\n",
        "\n",
        "    - Ensures that data is in the correct format for operations.\n",
        "\n",
        "    - Helps in avoiding type errors (like adding a string to a number).\n",
        "\n",
        "    - Useful when working with user input, since input is always taken as a string.\n",
        "\n",
        "    - Provides flexibility in handling and manipulating data.\n",
        "\n",
        "    **Two types:**\n",
        "\n",
        "    Implicit type casting (type conversion): Done automatically by Python (e.g., int → float).\n",
        "\n",
        "    Explicit type casting (type casting): Done manually using functions like int(), float(), str(), list(), etc."
      ],
      "metadata": {
        "id": "IYhl2d9_wraH"
      }
    },
    {
      "cell_type": "markdown",
      "source": [
        "10. What is the difference between implicit and explicit type casting?  \n",
        "  - Difference between Implicit and Explicit Type Casting\n",
        "\n",
        "    **Implicit Type Casting (Type Conversion):**\n",
        "\n",
        "    - Performed automatically by Python.\n",
        "\n",
        "    - Happens when Python converts a smaller or lower data type into a larger or compatible data type to prevent data loss.\n",
        "\n",
        "    - For example, when an integer is combined with a float, Python automatically converts the integer to a float.\n",
        "\n",
        "    - This process is safe and does not require programmer intervention.\n",
        "\n",
        "    **Explicit Type Casting (Type Casting):**\n",
        "\n",
        "    - Performed manually by the programmer.\n",
        "\n",
        "    - Uses built-in functions like int(), float(), str(), tuple(), list(), etc.\n",
        "\n",
        "    - It allows conversion between different types, but there is a risk of data loss or errors if the conversion is invalid (e.g., converting a non-numeric string into an integer).\n",
        "\n",
        "    - This gives the programmer control over how data types are changed."
      ],
      "metadata": {
        "id": "fgdFZGuQw-S2"
      }
    },
    {
      "cell_type": "markdown",
      "source": [
        "11. What is the purpose of conditional statements in Python?     \n",
        "  - Purpose of Conditional Statements in Python\n",
        "\n",
        "    Conditional statements are used to control the flow of a program based on certain conditions.\n",
        "\n",
        "    They allow the program to make decisions and execute specific blocks of code when a condition is true or false.\n",
        "\n",
        "    Python provides if, elif, and else statements to handle multiple conditions.\n",
        "\n",
        "    They make programs dynamic and responsive to different inputs or situations."
      ],
      "metadata": {
        "id": "F6zZZ2FCxuax"
      }
    },
    {
      "cell_type": "markdown",
      "source": [
        "12. How does the elif statement work?     \n",
        " - elif stands for “else if” and is used to check multiple conditions after an initial if.\n",
        "\n",
        "    Python evaluates conditions from top to bottom:\n",
        "\n",
        "    First, the if condition is checked.\n",
        "\n",
        "    If if is False, the elif conditions are checked in order.\n",
        "\n",
        "    If none of the if or elif conditions are True, the else block is executed.\n",
        "\n",
        "    Only one block of code in an if-elif-else chain is executed, even if multiple conditions are True."
      ],
      "metadata": {
        "id": "E-7rdemex-sJ"
      }
    },
    {
      "cell_type": "markdown",
      "source": [
        "13. What is the difference between for and while loops?    \n",
        "  - A for loop is used when we want to repeat a block of code a fixed number of times or iterate over a sequence (like list, tuple, string, or range). The number of iterations is usually known in advance.\n",
        "\n",
        "    A while loop is used when we want to repeat a block of code as long as a condition is true. The number of iterations is usually not fixed and depends on when the condition becomes false."
      ],
      "metadata": {
        "id": "tVKPnXM_yNrU"
      }
    },
    {
      "cell_type": "markdown",
      "source": [
        "14. Describe a scenario where a while loop is more suitable than a for loop?    \n",
        " - A while loop is better when the number of iterations is not known in advance and depends on a condition being met.\n",
        "\n",
        "    Examples:\n",
        "\n",
        "    1. Reading user input until they enter a valid value.\n",
        "\n",
        "    2. Continuously checking for a sensor value until it reaches a threshold.\n",
        "\n",
        "    3. Running a game loop until the player chooses to quit.\n",
        "\n",
        "    In such cases, a for loop cannot be used efficiently because the exact number of repetitions is unknown before starting the loop."
      ],
      "metadata": {
        "id": "x1hy9k--ykdr"
      }
    },
    {
      "cell_type": "markdown",
      "source": [
        "#**Practical Questions**"
      ],
      "metadata": {
        "id": "8aS9iKZ218o4"
      }
    },
    {
      "cell_type": "markdown",
      "source": [
        "1. Write a Python program to print \"Hello, World!"
      ],
      "metadata": {
        "id": "ftO9PZHK1u9D"
      }
    },
    {
      "cell_type": "code",
      "source": [
        "print(\"Hello, World!\")"
      ],
      "metadata": {
        "colab": {
          "base_uri": "https://localhost:8080/"
        },
        "id": "TuVS4l8C1B0r",
        "outputId": "5ee6dd0a-c80f-410f-cb8d-19c1fb9bf6da"
      },
      "execution_count": 1,
      "outputs": [
        {
          "output_type": "stream",
          "name": "stdout",
          "text": [
            "Hello, World!\n"
          ]
        }
      ]
    },
    {
      "cell_type": "markdown",
      "source": [
        "2. Write a Python program that displays your name and age?"
      ],
      "metadata": {
        "id": "2gXSHM0D2G0r"
      }
    },
    {
      "cell_type": "code",
      "source": [
        "name = \"Sakshi\"\n",
        "age = 25\n",
        "print(\"Name:\", name)\n",
        "print(\"Age:\", age)"
      ],
      "metadata": {
        "colab": {
          "base_uri": "https://localhost:8080/"
        },
        "id": "d_eI69kh1Ida",
        "outputId": "52575fee-160e-4eef-fbb8-3186ce9322a7"
      },
      "execution_count": 2,
      "outputs": [
        {
          "output_type": "stream",
          "name": "stdout",
          "text": [
            "Name: Sakshi\n",
            "Age: 25\n"
          ]
        }
      ]
    },
    {
      "cell_type": "markdown",
      "source": [
        "3. Write code to print all the pre-defined keywords in Python using the keyword library?"
      ],
      "metadata": {
        "id": "J-yUtO0U2MOc"
      }
    },
    {
      "cell_type": "code",
      "source": [
        "import keyword\n",
        "print(\"Python Keywords:\")\n",
        "print(keyword.kwlist)"
      ],
      "metadata": {
        "colab": {
          "base_uri": "https://localhost:8080/"
        },
        "id": "DgvbPhVW1Nhr",
        "outputId": "cdc4dcb3-e30a-4961-d0fb-9911ce5fd473"
      },
      "execution_count": 3,
      "outputs": [
        {
          "output_type": "stream",
          "name": "stdout",
          "text": [
            "Python Keywords:\n",
            "['False', 'None', 'True', 'and', 'as', 'assert', 'async', 'await', 'break', 'class', 'continue', 'def', 'del', 'elif', 'else', 'except', 'finally', 'for', 'from', 'global', 'if', 'import', 'in', 'is', 'lambda', 'nonlocal', 'not', 'or', 'pass', 'raise', 'return', 'try', 'while', 'with', 'yield']\n"
          ]
        }
      ]
    },
    {
      "cell_type": "markdown",
      "source": [
        "4. Write a program that checks if a given word is a Python keyword?"
      ],
      "metadata": {
        "id": "1xFvVRvw2Tc-"
      }
    },
    {
      "cell_type": "code",
      "source": [
        "import keyword\n",
        "\n",
        "word = input(\"Enter a word: \")\n",
        "if keyword.iskeyword(word):\n",
        "    print(f\"'{word}' is a Python keyword.\")\n",
        "else:\n",
        "    print(f\"'{word}' is not a Python keyword.\")\n"
      ],
      "metadata": {
        "colab": {
          "base_uri": "https://localhost:8080/"
        },
        "id": "6zwwx4X01Pr1",
        "outputId": "af0bac25-3a04-48da-99af-88b5700a66c7"
      },
      "execution_count": 5,
      "outputs": [
        {
          "output_type": "stream",
          "name": "stdout",
          "text": [
            "Enter a word: me\n",
            "'me' is not a Python keyword.\n"
          ]
        }
      ]
    },
    {
      "cell_type": "markdown",
      "source": [
        "5. Create a list and tuple in Python, and demonstrate how attempting to change an element works differently\n",
        "for each?"
      ],
      "metadata": {
        "id": "m8IJBJz_2YWg"
      }
    },
    {
      "cell_type": "code",
      "source": [
        "my_list = [10, 20, 30]\n",
        "print(\"Original List:\", my_list)\n",
        "\n",
        "my_list[1] = 200\n",
        "print(\"Modified List:\", my_list)\n",
        "\n",
        "my_tuple = (10, 20, 30)\n",
        "print(\"Original Tuple:\", my_tuple)\n",
        "\n",
        "try:\n",
        "    my_tuple[1] = 200\n",
        "except TypeError as e:\n",
        "    print(\"Error:\", e)\n"
      ],
      "metadata": {
        "colab": {
          "base_uri": "https://localhost:8080/"
        },
        "id": "75xYjGFo1SdB",
        "outputId": "3e5b194e-2b70-4408-a440-86bc871b6235"
      },
      "execution_count": 19,
      "outputs": [
        {
          "output_type": "stream",
          "name": "stdout",
          "text": [
            "Original List: [10, 20, 30]\n",
            "Modified List: [10, 200, 30]\n",
            "Original Tuple: (10, 20, 30)\n",
            "Error: 'tuple' object does not support item assignment\n"
          ]
        }
      ]
    },
    {
      "cell_type": "markdown",
      "source": [
        "6. Write a function to demonstrate the behavior of mutable and immutable arguments."
      ],
      "metadata": {
        "id": "IeHLI-e42fUW"
      }
    },
    {
      "cell_type": "code",
      "source": [
        "def modify_list(lst):\n",
        "    lst.append(100)\n",
        "    print(\"Inside function:\", lst)\n",
        "\n",
        "def modify_int(n):\n",
        "    n += 10\n",
        "    print(\"Inside function:\", n)\n",
        "\n",
        "my_list = [1, 2, 3]\n",
        "my_int = 50\n",
        "\n",
        "modify_list(my_list)\n",
        "print(\"Outside function:\", my_list)\n",
        "\n",
        "modify_int(my_int)\n",
        "print(\"Outside function:\", my_int)"
      ],
      "metadata": {
        "colab": {
          "base_uri": "https://localhost:8080/"
        },
        "id": "Ko6MGmwb1U64",
        "outputId": "a28a9c98-cdf0-4ce0-c586-6dcff3ae89f5"
      },
      "execution_count": 17,
      "outputs": [
        {
          "output_type": "stream",
          "name": "stdout",
          "text": [
            "Inside function: [1, 2, 3, 100]\n",
            "Outside function: [1, 2, 3, 100]\n",
            "Inside function: 60\n",
            "Outside function: 50\n"
          ]
        }
      ]
    },
    {
      "cell_type": "markdown",
      "source": [
        "7. Write a program that performs basic arithmetic operations on two user-input numbers."
      ],
      "metadata": {
        "id": "5oKGVDOU2iDk"
      }
    },
    {
      "cell_type": "code",
      "source": [
        "a = float(input(\"Enter first number: \"))\n",
        "b = float(input(\"Enter second number: \"))\n",
        "\n",
        "print(\"Addition:\", a + b)\n",
        "print(\"Subtraction:\", a - b)\n",
        "print(\"Multiplication:\", a * b)\n",
        "print(\"Division:\", a / b)\n",
        "print(\"Modulus:\", a % b)"
      ],
      "metadata": {
        "colab": {
          "base_uri": "https://localhost:8080/"
        },
        "id": "LofazbZT1Xjx",
        "outputId": "d3f08971-d145-4d51-caa8-3e1a600e00e2"
      },
      "execution_count": 16,
      "outputs": [
        {
          "output_type": "stream",
          "name": "stdout",
          "text": [
            "Enter first number: 4\n",
            "Enter second number: 5\n",
            "Addition: 9.0\n",
            "Subtraction: -1.0\n",
            "Multiplication: 20.0\n",
            "Division: 0.8\n",
            "Modulus: 4.0\n"
          ]
        }
      ]
    },
    {
      "cell_type": "markdown",
      "source": [
        "8. Write a program to demonstrate the use of logical operators."
      ],
      "metadata": {
        "id": "bp8kFpoO2lK8"
      }
    },
    {
      "cell_type": "code",
      "source": [
        "x = True\n",
        "y = False\n",
        "\n",
        "print(\"x and y:\", x and y)\n",
        "print(\"x or y:\", x or y)\n",
        "print(\"not x:\", not x)"
      ],
      "metadata": {
        "colab": {
          "base_uri": "https://localhost:8080/"
        },
        "id": "doOmcbNq1Z93",
        "outputId": "f451f0b7-d0a3-4e6c-ecb9-b3dbccff464a"
      },
      "execution_count": 15,
      "outputs": [
        {
          "output_type": "stream",
          "name": "stdout",
          "text": [
            "x and y: False\n",
            "x or y: True\n",
            "not x: False\n"
          ]
        }
      ]
    },
    {
      "cell_type": "markdown",
      "source": [
        "9. Write a Python program to convert user input from string to integer, float, and boolean types."
      ],
      "metadata": {
        "id": "KnuCsZKZ2oZj"
      }
    },
    {
      "cell_type": "code",
      "source": [
        "user_input = input(\"Enter a value: \")\n",
        "\n",
        "as_int = int(user_input)\n",
        "as_float = float(user_input)\n",
        "as_bool = bool(user_input)\n",
        "\n",
        "print(\"As integer:\", as_int)\n",
        "print(\"As float:\", as_float)\n",
        "print(\"As boolean:\", as_bool)"
      ],
      "metadata": {
        "colab": {
          "base_uri": "https://localhost:8080/"
        },
        "id": "iuWgLWXK1cHc",
        "outputId": "baf235ad-5e0e-4102-ba7e-0497ad780a32"
      },
      "execution_count": 14,
      "outputs": [
        {
          "output_type": "stream",
          "name": "stdout",
          "text": [
            "Enter a value: 6\n",
            "As integer: 6\n",
            "As float: 6.0\n",
            "As boolean: True\n"
          ]
        }
      ]
    },
    {
      "cell_type": "markdown",
      "source": [
        "10. Write code to demonstrate type casting with list elements."
      ],
      "metadata": {
        "id": "IQmMoTmO2tXw"
      }
    },
    {
      "cell_type": "code",
      "source": [
        "lst = [\"1\", \"2\", \"3\", \"4\"]\n",
        "int_lst = [int(x) for x in lst]\n",
        "float_lst = [float(x) for x in lst]\n",
        "\n",
        "print(\"Original list:\", lst)\n",
        "print(\"Integer list:\", int_lst)\n",
        "print(\"Float list:\", float_lst)"
      ],
      "metadata": {
        "colab": {
          "base_uri": "https://localhost:8080/"
        },
        "id": "8sCOCuma1fLf",
        "outputId": "2a4e6566-c564-4b49-d84d-fd0a6206119d"
      },
      "execution_count": 12,
      "outputs": [
        {
          "output_type": "stream",
          "name": "stdout",
          "text": [
            "Original list: ['1', '2', '3', '4']\n",
            "Integer list: [1, 2, 3, 4]\n",
            "Float list: [1.0, 2.0, 3.0, 4.0]\n"
          ]
        }
      ]
    },
    {
      "cell_type": "markdown",
      "source": [
        "11. Write a program that checks if a number is positive, negative, or zero."
      ],
      "metadata": {
        "id": "s4C96a2G2wa0"
      }
    },
    {
      "cell_type": "code",
      "source": [
        "num = float(input(\"Enter a number: \"))\n",
        "\n",
        "if num > 0:\n",
        "    print(\"Positive\")\n",
        "elif num < 0:\n",
        "    print(\"Negative\")\n",
        "else:\n",
        "    print(\"Zero\")"
      ],
      "metadata": {
        "colab": {
          "base_uri": "https://localhost:8080/"
        },
        "id": "eWrRkh9V1iG5",
        "outputId": "2c721998-2f7a-4e5c-cc16-b769b1faf77e"
      },
      "execution_count": 11,
      "outputs": [
        {
          "output_type": "stream",
          "name": "stdout",
          "text": [
            "Enter a number: 8\n",
            "Positive\n"
          ]
        }
      ]
    },
    {
      "cell_type": "markdown",
      "source": [
        "12. Write a for loop to print numbers from 1 to 10."
      ],
      "metadata": {
        "id": "jLEyZm0g2yl2"
      }
    },
    {
      "cell_type": "code",
      "source": [
        "for i in range(1, 11):\n",
        "    print(i)"
      ],
      "metadata": {
        "colab": {
          "base_uri": "https://localhost:8080/"
        },
        "id": "Xwxlehjr1kb0",
        "outputId": "a461a77b-77bd-4056-cc5c-28483abeaf3d"
      },
      "execution_count": 10,
      "outputs": [
        {
          "output_type": "stream",
          "name": "stdout",
          "text": [
            "1\n",
            "2\n",
            "3\n",
            "4\n",
            "5\n",
            "6\n",
            "7\n",
            "8\n",
            "9\n",
            "10\n"
          ]
        }
      ]
    },
    {
      "cell_type": "markdown",
      "source": [
        "13. Write a Python program to find the sum of all even numbers between 1 and 50."
      ],
      "metadata": {
        "id": "qB3HfcX_201O"
      }
    },
    {
      "cell_type": "code",
      "source": [
        "sum_even = 0\n",
        "for i in range(2, 51, 2):\n",
        "    sum_even += i\n",
        "print(\"Sum of even numbers from 1 to 50:\", sum_even)"
      ],
      "metadata": {
        "colab": {
          "base_uri": "https://localhost:8080/"
        },
        "id": "m57MKLq91mnU",
        "outputId": "3a59c8cb-bead-43a2-a574-f85b9d66d66c"
      },
      "execution_count": 9,
      "outputs": [
        {
          "output_type": "stream",
          "name": "stdout",
          "text": [
            "Sum of even numbers from 1 to 50: 650\n"
          ]
        }
      ]
    },
    {
      "cell_type": "markdown",
      "source": [
        "14. Write a program to reverse a string using a while loop."
      ],
      "metadata": {
        "id": "poZc2Sh824CQ"
      }
    },
    {
      "cell_type": "code",
      "source": [
        "s = input(\"Enter a string: \")\n",
        "reversed_s = \"\"\n",
        "index = len(s) - 1\n",
        "\n",
        "while index >= 0:\n",
        "    reversed_s += s[index]\n",
        "    index -= 1\n",
        "\n",
        "print(\"Reversed string:\", reversed_s)"
      ],
      "metadata": {
        "colab": {
          "base_uri": "https://localhost:8080/"
        },
        "id": "Qlv4x98w1o7C",
        "outputId": "4b44a4b1-5c9b-4a93-c46e-df007032d81d"
      },
      "execution_count": 8,
      "outputs": [
        {
          "output_type": "stream",
          "name": "stdout",
          "text": [
            "Enter a string: fdsde\n",
            "Reversed string: edsdf\n"
          ]
        }
      ]
    },
    {
      "cell_type": "markdown",
      "source": [
        "15. Write a Python program to calculate the factorial of a number provided by the user using a while loop."
      ],
      "metadata": {
        "id": "iOsIZqto26mr"
      }
    },
    {
      "cell_type": "code",
      "source": [
        "num = int(input(\"Enter a number: \"))\n",
        "factorial = 1\n",
        "n = num\n",
        "\n",
        "while n > 0:\n",
        "    factorial *= n\n",
        "    n -= 1\n",
        "\n",
        "print(f\"Factorial of {num} is {factorial}\")"
      ],
      "metadata": {
        "colab": {
          "base_uri": "https://localhost:8080/"
        },
        "id": "-BFNSz5o1rCH",
        "outputId": "7c923e6f-aef7-41c1-c559-aa32f34550a9"
      },
      "execution_count": 7,
      "outputs": [
        {
          "output_type": "stream",
          "name": "stdout",
          "text": [
            "Enter a number: 6\n",
            "Factorial of 6 is 720\n"
          ]
        }
      ]
    }
  ]
}